{
 "metadata": {
  "language_info": {
   "codemirror_mode": {
    "name": "ipython",
    "version": 3
   },
   "file_extension": ".py",
   "mimetype": "text/x-python",
   "name": "python",
   "nbconvert_exporter": "python",
   "pygments_lexer": "ipython3",
   "version": "3.8.5-final"
  },
  "orig_nbformat": 2,
  "kernelspec": {
   "name": "Python 3.8.5 64-bit ('metis': conda)",
   "display_name": "Python 3.8.5 64-bit ('metis': conda)",
   "metadata": {
    "interpreter": {
     "hash": "eece7921df2ca58a8fc7f4ef672d016d694ef86f3bf1f701935ab045ba8a2557"
    }
   }
  }
 },
 "nbformat": 4,
 "nbformat_minor": 2,
 "cells": [
  {
   "source": [
    "# Project 2 - 80s Movie Data"
   ],
   "cell_type": "markdown",
   "metadata": {}
  },
  {
   "cell_type": "code",
   "execution_count": 1,
   "metadata": {},
   "outputs": [],
   "source": [
    "from bs4 import BeautifulSoup\n",
    "from IPython.core.display import display, HTML\n",
    "import requests\n",
    "import pandas as pd"
   ]
  },
  {
   "cell_type": "code",
   "execution_count": 2,
   "metadata": {},
   "outputs": [],
   "source": [
    "url = 'https://www.imdb.com/title/tt0083929/?ref_=ttls_li_tt'\n",
    "\n",
    "response = requests.get(url)"
   ]
  },
  {
   "cell_type": "code",
   "execution_count": 3,
   "metadata": {},
   "outputs": [],
   "source": [
    "page = response.text"
   ]
  },
  {
   "cell_type": "code",
   "execution_count": 4,
   "metadata": {},
   "outputs": [],
   "source": [
    "soup = BeautifulSoup(page)"
   ]
  },
  {
   "cell_type": "code",
   "execution_count": 5,
   "metadata": {},
   "outputs": [
    {
     "output_type": "execute_result",
     "data": {
      "text/plain": "[<a href=\"/register/login?why=edit\" rel=\"login\">Edit</a>,\n <a href=\"/search/title?country_of_origin=us\">USA</a>,\n <a href=\"/search/title?title_type=feature&amp;primary_language=en&amp;sort=moviemeter,asc\">English</a>,\n <a href=\"releaseinfo\">See more</a>,\n <a href=\"releaseinfo#akas\">See more</a>,\n <a href=\"/search/title?locations=Van%20Nuys%20Blvd%20&amp;%20Vose%20St,%20Van%20Nuys,%20Los%20Angeles,%20California,%20USA\">Van Nuys Blvd &amp; Vose St, Van Nuys, Los Angeles, California, USA</a>,\n <a href=\"locations\">See more</a>,\n <a href=\"/register/login?why=edit\" rel=\"login\">Edit</a>,\n <a href=\"https://pro.imdb.com/title/tt0083929?rf=cons_tt_bo_tt\">See more on IMDbPro</a>,\n <a href=\"/company/co0108297\"> Refugee Films</a>,\n <a href=\"/company/co0005073\"> Universal Pictures</a>,\n <a href=\"companycredits\">See more</a>,\n <a href=\"https://pro.imdb.com/title/tt0083929/companycredits?rf=cons_tt_cocred_tt\">IMDbPro</a>,\n <a href=\"/search/title?sound_mixes=mono\">Mono</a>,\n <a href=\"/search/title?colors=color\">Color</a>,\n <a href=\"technical\">full technical specs</a>]"
     },
     "metadata": {},
     "execution_count": 5
    }
   ],
   "source": [
    "soup.find(id='titleDetails').find_all('a')"
   ]
  },
  {
   "cell_type": "code",
   "execution_count": 6,
   "metadata": {},
   "outputs": [],
   "source": [
    "budget = soup.find(id='titleDetails').find_all('h4')[5].findParent().text.split()[0][7:]"
   ]
  },
  {
   "cell_type": "code",
   "execution_count": 7,
   "metadata": {},
   "outputs": [],
   "source": [
    "primary_language = soup.find(id='titleDetails').find_all('a')[2].text"
   ]
  },
  {
   "cell_type": "code",
   "execution_count": 8,
   "metadata": {},
   "outputs": [
    {
     "output_type": "execute_result",
     "data": {
      "text/plain": "[<h4 class=\"inline\">Country:</h4>,\n <h4 class=\"inline\">Language:</h4>,\n <h4 class=\"inline\">Release Date:</h4>,\n <h4 class=\"inline\">Also Known As:</h4>,\n <h4 class=\"inline\">Filming Locations:</h4>,\n <h4 class=\"inline\">Budget:</h4>,\n <h4 class=\"inline\">Opening Weekend USA:</h4>,\n <h4 class=\"inline\">Gross USA:</h4>,\n <h4 class=\"inline\">Cumulative Worldwide Gross:</h4>,\n <h4 class=\"inline\">Production Co:</h4>,\n <h4 class=\"inline\">Runtime:</h4>,\n <h4 class=\"inline\">Sound Mix:</h4>,\n <h4 class=\"inline\">Color:</h4>,\n <h4 class=\"inline\">Aspect Ratio:</h4>]"
     },
     "metadata": {},
     "execution_count": 8
    }
   ],
   "source": [
    "soup.find(id='titleDetails').find_all('h4')"
   ]
  },
  {
   "cell_type": "code",
   "execution_count": 95,
   "metadata": {
    "tags": []
   },
   "outputs": [
    {
     "output_type": "stream",
     "name": "stdout",
     "text": "The autoreload extension is already loaded. To reload it, use:\n  %reload_ext autoreload\n"
    }
   ],
   "source": [
    "from getting_info import get_movie_value\n",
    "\n",
    "%load_ext autoreload\n",
    "%autoreload 2"
   ]
  },
  {
   "source": [
    "stuff = get_movie_value(soup)"
   ],
   "cell_type": "code",
   "metadata": {
    "tags": []
   },
   "execution_count": 107,
   "outputs": []
  },
  {
   "cell_type": "code",
   "execution_count": 108,
   "metadata": {},
   "outputs": [
    {
     "output_type": "execute_result",
     "data": {
      "text/plain": "['Fast Times at Ridgemont High',\n 7.2,\n 91947,\n 'R',\n ['Comedy', 'Drama'],\n 'Amy Heckerling',\n 'Cameron Crowe',\n ['Sean Penn', 'Jennifer Jason Leigh', 'Judge Reinhold'],\n 'USA',\n 'English',\n datetime.date(1982, 8, 13),\n 4500000,\n 2545674,\n 27092880,\n 27092880,\n ['Refugee Films', 'Universal Pictures'],\n '90']"
     },
     "metadata": {},
     "execution_count": 108
    }
   ],
   "source": [
    "stuff"
   ]
  },
  {
   "cell_type": "code",
   "execution_count": 121,
   "metadata": {},
   "outputs": [],
   "source": [
    "from imdb_big_scrape import get_movie_links"
   ]
  },
  {
   "cell_type": "code",
   "execution_count": 124,
   "metadata": {},
   "outputs": [],
   "source": [
    "link = get_movie_links(1)"
   ]
  },
  {
   "cell_type": "code",
   "execution_count": 126,
   "metadata": {},
   "outputs": [],
   "source": [
    "url = 'https://www.imdb.com/search/title/?groups=top_1000&view=simple&sort=user_rating,desc&count=100&start=1&ref_=adv_nxt'\n",
    "response = requests.get(url)\n",
    "page = response.text\n",
    "soup = BeautifulSoup(page)"
   ]
  },
  {
   "cell_type": "code",
   "execution_count": 148,
   "metadata": {},
   "outputs": [],
   "source": [
    "list1 = soup.find_all(class_='lister-item-index unbold text-primary')"
   ]
  },
  {
   "cell_type": "code",
   "execution_count": 150,
   "metadata": {},
   "outputs": [],
   "source": [
    "list2 = [i.findNext().findChildren()[0]['href'] for i in list1]"
   ]
  },
  {
   "cell_type": "code",
   "execution_count": null,
   "metadata": {},
   "outputs": [],
   "source": [
    "list2"
   ]
  },
  {
   "cell_type": "code",
   "execution_count": null,
   "metadata": {},
   "outputs": [],
   "source": []
  }
 ]
}
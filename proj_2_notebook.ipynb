{
 "metadata": {
  "language_info": {
   "codemirror_mode": {
    "name": "ipython",
    "version": 3
   },
   "file_extension": ".py",
   "mimetype": "text/x-python",
   "name": "python",
   "nbconvert_exporter": "python",
   "pygments_lexer": "ipython3",
   "version": "3.7.7-final"
  },
  "orig_nbformat": 2,
  "kernelspec": {
   "name": "Python 3.7.7 64-bit ('base': conda)",
   "display_name": "Python 3.7.7 64-bit ('base': conda)",
   "metadata": {
    "interpreter": {
     "hash": "b99ba0321806b0c20b375a878aab8a573bc0be454e36df488f89d28aca73184c"
    }
   }
  }
 },
 "nbformat": 4,
 "nbformat_minor": 2,
 "cells": [
  {
   "source": [
    "# Project 2 - 80s Movie Data"
   ],
   "cell_type": "markdown",
   "metadata": {}
  },
  {
   "cell_type": "code",
   "execution_count": 49,
   "metadata": {
    "tags": []
   },
   "outputs": [
    {
     "output_type": "stream",
     "name": "stdout",
     "text": "The autoreload extension is already loaded. To reload it, use:\n  %reload_ext autoreload\n"
    }
   ],
   "source": [
    "from bs4 import BeautifulSoup\n",
    "from IPython.core.display import display, HTML\n",
    "import requests\n",
    "import pandas as pd\n",
    "from imdb_big_scrape import get_movie_links\n",
    "from getting_info import get_movie_data\n",
    "%load_ext autoreload\n",
    "%autoreload 2"
   ]
  },
  {
   "cell_type": "code",
   "execution_count": 60,
   "metadata": {
    "tags": []
   },
   "outputs": [
    {
     "output_type": "execute_result",
     "data": {
      "text/plain": "&#39;/title/tt0983213/&#39;"
     },
     "metadata": {},
     "execution_count": 60
    }
   ],
   "source": [
    "list1[0]"
   ]
  },
  {
   "cell_type": "code",
   "execution_count": 65,
   "metadata": {},
   "outputs": [
    {
     "output_type": "execute_result",
     "data": {
      "text/plain": "{&#39;movie title&#39;: &#39;5 Centimeters Per Second&#39;,\n &#39;imdb rating&#39;: 7.6,\n &#39;imdb rater&#39;: 49564,\n &#39;mpaa&#39;: &#39;TV-PG&#39;,\n &#39;genres&#39;: [&#39;Animation&#39;, &#39;Drama&#39;],\n &#39;director&#39;: &#39;Makoto Shinkai&#39;,\n &#39;writer&#39;: &#39;Makoto Shinkai&#39;,\n &#39;stars&#39;: [&#39;Kenji Mizuhashi&#39;, &#39;Yoshimi Kondou&#39;, &#39;Satomi Hanamura&#39;],\n &#39;country&#39;: &#39;Official Wikipedia&#39;,\n &#39;language&#39;: &#39;Japan&#39;,\n &#39;release date&#39;: &#39;&#39;,\n &#39;budget&#39;: &#39;$5,000,000&#39;,\n &#39;opening weekend&#39;: &#39;$256,851&#39;,\n &#39;gross usa&#39;: &#39;&#39;,\n &#39;cumulative worldwide&#39;: &#39;&#39;,\n &#39;production companies&#39;: [&#39;Dolby Digital&#39;],\n &#39;runtime&#39;: &#39;Color&#39;}"
     },
     "metadata": {},
     "execution_count": 65
    }
   ],
   "source": [
    "get_movie_value(list1[0])"
   ]
  },
  {
   "cell_type": "code",
   "execution_count": null,
   "metadata": {},
   "outputs": [],
   "source": [
    "base_url = 'https://www.imdb.com'\n",
    "\n",
    "url = base_url + link\n",
    "\n",
    "response = requests.get(url)\n",
    "page = response.text\n",
    "soup = BeautifulSoup(page)"
   ]
  }
 ]
}
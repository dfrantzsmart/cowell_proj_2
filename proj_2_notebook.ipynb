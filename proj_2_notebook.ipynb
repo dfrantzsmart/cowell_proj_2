{
 "metadata": {
  "language_info": {
   "codemirror_mode": {
    "name": "ipython",
    "version": 3
   },
   "file_extension": ".py",
   "mimetype": "text/x-python",
   "name": "python",
   "nbconvert_exporter": "python",
   "pygments_lexer": "ipython3",
   "version": "3.7.7-final"
  },
  "orig_nbformat": 2,
  "kernelspec": {
   "name": "Python 3.7.7 64-bit ('base': conda)",
   "display_name": "Python 3.7.7 64-bit ('base': conda)",
   "metadata": {
    "interpreter": {
     "hash": "b99ba0321806b0c20b375a878aab8a573bc0be454e36df488f89d28aca73184c"
    }
   }
  }
 },
 "nbformat": 4,
 "nbformat_minor": 2,
 "cells": [
  {
   "source": [
    "# Project 2 - 80s Movie Data"
   ],
   "cell_type": "markdown",
   "metadata": {}
  },
  {
   "cell_type": "code",
   "execution_count": 98,
   "metadata": {
    "tags": []
   },
   "outputs": [
    {
     "output_type": "stream",
     "name": "stdout",
     "text": "The autoreload extension is already loaded. To reload it, use:\n  %reload_ext autoreload\n"
    }
   ],
   "source": [
    "from bs4 import BeautifulSoup\n",
    "from IPython.core.display import display, HTML\n",
    "import requests\n",
    "import pandas as pd\n",
    "from imdb_big_scrape import get_movie_links\n",
    "from getting_info import get_movie_data\n",
    "import re\n",
    "%load_ext autoreload\n",
    "%autoreload 2"
   ]
  },
  {
   "cell_type": "code",
   "execution_count": 99,
   "metadata": {
    "tags": []
   },
   "outputs": [
    {
     "output_type": "execute_result",
     "data": {
      "text/plain": "&#39;/title/tt0983213/&#39;"
     },
     "metadata": {},
     "execution_count": 99
    }
   ],
   "source": [
    "list1[0]"
   ]
  },
  {
   "cell_type": "code",
   "execution_count": 105,
   "metadata": {},
   "outputs": [
    {
     "output_type": "execute_result",
     "data": {
      "text/plain": "{&#39;movie title&#39;: &#39;5 Centimeters Per Second&#39;,\n &#39;imdb rating&#39;: 7.6,\n &#39;imdb raters&#39;: 49565,\n &#39;mpaa&#39;: &#39;TV-PG&#39;,\n &#39;genres&#39;: [&#39;Animation&#39;, &#39;Drama&#39;],\n &#39;director&#39;: &#39;Makoto Shinkai&#39;,\n &#39;writer&#39;: &#39;Makoto Shinkai&#39;,\n &#39;stars&#39;: [&#39;Kenji Mizuhashi&#39;, &#39;Yoshimi Kondou&#39;, &#39;Satomi Hanamura&#39;],\n &#39;country&#39;: &#39;Official Wikipedia&#39;,\n &#39;language&#39;: &#39;Japan&#39;,\n &#39;release date&#39;: &#39;&#39;,\n &#39;budget&#39;: &#39;$5,000,000&#39;,\n &#39;opening weekend&#39;: &#39;$256,851&#39;,\n &#39;gross usa&#39;: &#39;&#39;,\n &#39;cumulative worldwide&#39;: &#39;&#39;,\n &#39;production companies&#39;: [&#39;Dolby Digital&#39;],\n &#39;runtime&#39;: &#39;Color&#39;}"
     },
     "metadata": {},
     "execution_count": 105
    }
   ],
   "source": [
    "get_movie_data(list1[0])"
   ]
  },
  {
   "cell_type": "code",
   "execution_count": 314,
   "metadata": {},
   "outputs": [],
   "source": [
    "url = 'https://www.imdb.com' + list1[1]\n",
    "\n",
    "response = requests.get(url)\n",
    "page = response.text\n",
    "soup = BeautifulSoup(page)"
   ]
  },
  {
   "cell_type": "code",
   "execution_count": 320,
   "metadata": {},
   "outputs": [],
   "source": [
    "url2 = 'https://www.imdb.com' + list1[2]\n",
    "\n",
    "response2 = requests.get(url2)\n",
    "page2 = response2.text\n",
    "soup2 = BeautifulSoup(page2)"
   ]
  },
  {
   "cell_type": "code",
   "execution_count": 132,
   "metadata": {},
   "outputs": [],
   "source": [
    "import regex as re\n",
    "country_regex = re.compile('Country')"
   ]
  },
  {
   "cell_type": "code",
   "execution_count": 186,
   "metadata": {},
   "outputs": [
    {
     "output_type": "execute_result",
     "data": {
      "text/plain": "&#39;Country:&#39;"
     },
     "metadata": {},
     "execution_count": 186
    }
   ],
   "source": [
    "soup.find(text=country_regex)"
   ]
  },
  {
   "cell_type": "code",
   "execution_count": 316,
   "metadata": {},
   "outputs": [],
   "source": [
    "genre = soup.find('h4', text=re.compile('Genre')).findParent()"
   ]
  },
  {
   "cell_type": "code",
   "execution_count": 339,
   "metadata": {},
   "outputs": [
    {
     "output_type": "execute_result",
     "data": {
      "text/plain": "[&#39;Biography&#39;, &#39;Drama&#39;, &#39;Sport&#39;]"
     },
     "metadata": {},
     "execution_count": 339
    }
   ],
   "source": [
    "[ele.strip().replace('\\xa0|', '') for ele in genre.text.split('\\n')[2:-1]]"
   ]
  },
  {
   "cell_type": "code",
   "execution_count": 321,
   "metadata": {},
   "outputs": [],
   "source": [
    "genre2 = soup2.find('h4', text=re.compile('Genre')).findParent()"
   ]
  },
  {
   "cell_type": "code",
   "execution_count": 341,
   "metadata": {},
   "outputs": [
    {
     "output_type": "execute_result",
     "data": {
      "text/plain": "[&#39;Drama&#39;]"
     },
     "metadata": {},
     "execution_count": 341
    }
   ],
   "source": [
    "[ele.strip().replace('\\xa0|', '') for ele in genre2.text.split('\\n')[2:-1]]"
   ]
  },
  {
   "cell_type": "code",
   "execution_count": 74,
   "metadata": {},
   "outputs": [],
   "source": [
    "def get_movie_value(soup, field_name):\n",
    "    \n",
    "    '''Grab a value from Box Office Mojo HTML\n",
    "    \n",
    "    Takes a string attribute of a movie on the page and returns the string in\n",
    "    the next sibling object (the value for that attribute) or None if nothing is found.\n",
    "    '''\n",
    "    \n",
    "    obj = soup.find(text=re.compile(field_name))\n",
    "    \n",
    "    if not obj: \n",
    "        return None\n",
    "    \n",
    "    # this works for most of the values\n",
    "    next_element = obj.findNext()\n",
    "    \n",
    "    if next_element:\n",
    "        return next_element.text \n",
    "    else:\n",
    "        return None"
   ]
  },
  {
   "cell_type": "code",
   "execution_count": 343,
   "metadata": {
    "tags": []
   },
   "outputs": [
    {
     "output_type": "execute_result",
     "data": {
      "text/plain": "{&#39;movie title&#39;: &#39;5 Centimeters Per Second&#39;,\n &#39;imdb rating&#39;: 7.6,\n &#39;imdb raters&#39;: 49567,\n &#39;mpaa&#39;: &#39;TV-PG&#39;,\n &#39;genres&#39;: [&#39;Animation&#39;, &#39;Drama&#39;, &#39;Family&#39;, &#39;Romance&#39;],\n &#39;director&#39;: &#39;Makoto Shinkai&#39;,\n &#39;writer&#39;: &#39;Makoto Shinkai&#39;,\n &#39;stars&#39;: [&#39;Kenji Mizuhashi&#39;, &#39;Yoshimi Kondou&#39;, &#39;Satomi Hanamura&#39;],\n &#39;country&#39;: &#39;Japan&#39;,\n &#39;language&#39;: &#39;Japanese&#39;,\n &#39;release date&#39;: datetime.date(2007, 3, 3),\n &#39;budget&#39;: 5000000,\n &#39;opening weekend&#39;: None,\n &#39;gross usa&#39;: None,\n &#39;cumulative worldwide&#39;: 256851,\n &#39;production companies&#39;: [&#39;CoMix Wave&#39;],\n &#39;runtime (min)&#39;: 63}"
     },
     "metadata": {},
     "execution_count": 343
    }
   ],
   "source": [
    "get_movie_data(list1[0])"
   ]
  },
  {
   "cell_type": "code",
   "execution_count": null,
   "metadata": {},
   "outputs": [],
   "source": [
    "soup.find"
   ]
  },
  {
   "cell_type": "code",
   "execution_count": 346,
   "metadata": {},
   "outputs": [
    {
     "output_type": "execute_result",
     "data": {
      "text/plain": "1000"
     },
     "metadata": {},
     "execution_count": 346
    }
   ],
   "source": [
    "len(list1)"
   ]
  },
  {
   "cell_type": "code",
   "execution_count": null,
   "metadata": {},
   "outputs": [],
   "source": []
  }
 ]
}
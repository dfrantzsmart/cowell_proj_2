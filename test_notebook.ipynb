{
 "metadata": {
  "language_info": {
   "codemirror_mode": {
    "name": "ipython",
    "version": 3
   },
   "file_extension": ".py",
   "mimetype": "text/x-python",
   "name": "python",
   "nbconvert_exporter": "python",
   "pygments_lexer": "ipython3",
   "version": "3.8.5-final"
  },
  "orig_nbformat": 2,
  "kernelspec": {
   "name": "Python 3.8.5 64-bit ('metis': conda)",
   "display_name": "Python 3.8.5 64-bit ('metis': conda)",
   "metadata": {
    "interpreter": {
     "hash": "eece7921df2ca58a8fc7f4ef672d016d694ef86f3bf1f701935ab045ba8a2557"
    }
   }
  }
 },
 "nbformat": 4,
 "nbformat_minor": 2,
 "cells": [
  {
   "cell_type": "code",
   "execution_count": 1,
   "metadata": {},
   "outputs": [],
   "source": [
    "from bs4 import BeautifulSoup\n",
    "from IPython.core.display import display, HTML\n",
    "import requests\n",
    "import re\n",
    "from datetime import datetime\n",
    "import pickle\n",
    "\n",
    "from IPython.core.display import display, HTML\n",
    "import pandas as pd\n",
    "import numpy as numpy\n",
    "import seaborn as sns\n",
    "import matplotlib.pyplot as plt\n",
    "import regex as re\n",
    "from imdb_big_scrape import get_movie_links\n",
    "from getting_info import get_movie_data\n",
    "from sklearn.linear_model import LinearRegression\n",
    "%load_ext autoreload\n",
    "%autoreload 2"
   ]
  },
  {
   "cell_type": "code",
   "execution_count": 2,
   "metadata": {},
   "outputs": [],
   "source": [
    "movie_links = get_movie_links(80,1)"
   ]
  },
  {
   "cell_type": "code",
   "execution_count": 3,
   "metadata": {},
   "outputs": [
    {
     "output_type": "execute_result",
     "data": {
      "text/plain": "8000"
     },
     "metadata": {},
     "execution_count": 3
    }
   ],
   "source": [
    "len(movie_links)"
   ]
  },
  {
   "cell_type": "code",
   "execution_count": 5,
   "metadata": {},
   "outputs": [],
   "source": [
    "count = 0\n",
    "movie_data_list = []\n",
    "for link in movie_links:\n",
    "    movie_data_list.append(get_movie_data(link))\n",
    "    count += 1\n",
    "    if count % 50 == 0:\n",
    "        with open('IMDb_8000.pickle', 'wb') as to_write:\n",
    "            pickle.dump(movie_data_list, to_write)\n",
    "# Create list with all movies from movie links"
   ]
  },
  {
   "cell_type": "code",
   "execution_count": 7,
   "metadata": {},
   "outputs": [],
   "source": [
    "import pandas as pd"
   ]
  },
  {
   "cell_type": "code",
   "execution_count": 8,
   "metadata": {},
   "outputs": [],
   "source": [
    "df = pd.DataFrame(movie_data_list)"
   ]
  },
  {
   "cell_type": "code",
   "execution_count": null,
   "metadata": {},
   "outputs": [],
   "source": []
  }
 ]
}